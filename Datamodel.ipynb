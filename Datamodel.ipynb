{
 "cells": [
  {
   "cell_type": "markdown",
   "id": "3003f73f",
   "metadata": {},
   "source": [
    "# Creating a Table with PostgreSQL"
   ]
  },
  {
   "cell_type": "code",
   "execution_count": 55,
   "id": "235c7533",
   "metadata": {},
   "outputs": [
    {
     "name": "stdout",
     "output_type": "stream",
     "text": [
      "Requirement already satisfied: psycopg2 in c:\\users\\ejjid\\anaconda3\\lib\\site-packages (2.9.9)\n"
     ]
    }
   ],
   "source": [
    "!pip install psycopg2"
   ]
  },
  {
   "cell_type": "code",
   "execution_count": 56,
   "id": "33862ad9",
   "metadata": {},
   "outputs": [],
   "source": [
    "import psycopg2"
   ]
  },
  {
   "cell_type": "markdown",
   "id": "8662d7cc",
   "metadata": {},
   "source": [
    "# Creating a connection to the database"
   ]
  },
  {
   "cell_type": "code",
   "execution_count": 76,
   "id": "24d753b6",
   "metadata": {},
   "outputs": [],
   "source": [
    "try: \n",
    "    conn = psycopg2.connect(\"host=localhost dbname=postgres user=postgres password=Donika@123\")\n",
    "except psycopg2.Error as e: \n",
    "    print(\"Error: Could not make connection to the Postgres database\")\n",
    "    print(e)"
   ]
  },
  {
   "cell_type": "code",
   "execution_count": 77,
   "id": "2ed3450e",
   "metadata": {},
   "outputs": [],
   "source": [
    "#Use the connection to get a cursor that can be used to execute queries.\n",
    "try: \n",
    "    cur = conn.cursor()\n",
    "except psycopg2.Error as e: \n",
    "    print(\"Error: Could not get curser to the Database\")\n",
    "    print(e)"
   ]
  },
  {
   "cell_type": "code",
   "execution_count": 78,
   "id": "7d44ecdf",
   "metadata": {},
   "outputs": [],
   "source": [
    "#Set automatic commit to be true so that each action is committed without having to call conn.commit() after each command.\n",
    "conn.set_session(autocommit=True)"
   ]
  },
  {
   "cell_type": "markdown",
   "id": "1979dfe2",
   "metadata": {},
   "source": [
    "# Creating a database"
   ]
  },
  {
   "cell_type": "code",
   "execution_count": 79,
   "id": "c7f6059c",
   "metadata": {},
   "outputs": [
    {
     "name": "stdout",
     "output_type": "stream",
     "text": [
      "database \"my_first_db\" already exists\n",
      "\n"
     ]
    }
   ],
   "source": [
    "try: \n",
    "    cur.execute(\"create database my_first_db\")\n",
    "except psycopg2.Error as e:\n",
    "    print(e)"
   ]
  },
  {
   "cell_type": "markdown",
   "id": "43c8531d",
   "metadata": {},
   "source": [
    "# Adding the database name in the connect statement and then closing the connection to the default database, reconnect to the new database, and getting a new cursor."
   ]
  },
  {
   "cell_type": "code",
   "execution_count": 80,
   "id": "2b323f12",
   "metadata": {},
   "outputs": [],
   "source": [
    "\n",
    "try: \n",
    "    conn.close()\n",
    "except psycopg2.Error as e:\n",
    "    print(e)\n",
    "    \n",
    "try: \n",
    "    conn = psycopg2.connect(\"host=localhost dbname=my_first_db user=postgres password=Donika@123\")\n",
    "except psycopg2.Error as e: \n",
    "    print(\"Error: Could not make connection to the Postgres database\")\n",
    "    print(e)\n",
    "    \n",
    "try: \n",
    "    cur = conn.cursor()\n",
    "except psycopg2.Error as e: \n",
    "    print(\"Error: Could not get curser to the Database\")\n",
    "    print(e)\n",
    "\n",
    "conn.set_session(autocommit=True)"
   ]
  },
  {
   "cell_type": "markdown",
   "id": "31239646",
   "metadata": {},
   "source": [
    "# Create Table for students which includes below columns\n",
    "\n",
    "\n",
    "student_id\n",
    "\n",
    "name\n",
    "\n",
    "age\n",
    "\n",
    "gender\n",
    "\n",
    "subject\n",
    "\n",
    "marks"
   ]
  },
  {
   "cell_type": "code",
   "execution_count": 81,
   "id": "dd424c20",
   "metadata": {},
   "outputs": [],
   "source": [
    "try: \n",
    "    cur.execute(\"CREATE TABLE IF NOT EXISTS studentsbio (student_id int, name varchar,\\\n",
    "    age int, gender varchar, subject varchar, marks int);\")\n",
    "except psycopg2.Error as e: \n",
    "    print(\"Error: Issue creating table\")\n",
    "    print (e)"
   ]
  },
  {
   "cell_type": "markdown",
   "id": "ca27399b",
   "metadata": {},
   "source": [
    "# Insert the following two rows in the table\n",
    "First Row: 1, \"sandhya\", 23, \"Female\", \"Python\", 85\n",
    "\n",
    "Second Row: 2, \"shiva\", 22, \"Male\", \"Java\", 86\n",
    "\n",
    "Third Row: 3, \"Darshil\", 25, \"Male\" , \"DataEngineering\", 98"
   ]
  },
  {
   "cell_type": "code",
   "execution_count": 82,
   "id": "8eacf6d5",
   "metadata": {},
   "outputs": [],
   "source": [
    "try: \n",
    "    cur.execute(\"INSERT INTO studentsbio (student_id, name, age, gender, subject, marks) \\\n",
    "                 VALUES (%s, %s, %s, %s, %s, %s)\", \\\n",
    "                 (1, \"sandhya\", 23, \"Female\", \"Python\", 85))\n",
    "except psycopg2.Error as e: \n",
    "    print(\"Error: Inserting Rows\")\n",
    "    print (e)\n",
    "    \n",
    "try: \n",
    "    cur.execute(\"INSERT INTO studentsbio (student_id, name, age, gender, subject, marks) \\\n",
    "                  VALUES (%s, %s, %s, %s, %s, %s)\",\n",
    "                  ( 2, \"Shiva\", 22, \"Male\", \"Java\", 86))\n",
    "except psycopg2.Error as e: \n",
    "    print(\"Error: Inserting Rows\")\n",
    "    print (e)\n",
    "try:\n",
    "    cur.execute('INSERT INTO STUDENTSbio (student_id, name, age, gender, subject, marks)\\\n",
    "                VALUES (%s, %s, %s,%s,%s,%s)',\n",
    "                 (3, 'darshil', 25, \"male\",\"dataengineering\",98))\n",
    "except psycopg2.Error as e:\n",
    "    print(\"Error: Inserting Rows\")\n",
    "    print(e)"
   ]
  },
  {
   "cell_type": "code",
   "execution_count": 83,
   "id": "305d79e4",
   "metadata": {},
   "outputs": [
    {
     "name": "stdout",
     "output_type": "stream",
     "text": [
      "(1, 'sandhya', 23, 'Female', 'Python', 85)\n",
      "(2, 'Shiva', 22, 'Male', 'Java', 86)\n",
      "(3, 'darshil', 25, 'male', 'dataengineering', 98)\n"
     ]
    }
   ],
   "source": [
    "#Validate data was inserted into the table.\n",
    "try:\n",
    "    cur.execute(\"SELECT * FROM studentsbio;\")\n",
    "except psycopg2.Error as e: \n",
    "    print(\"Error: select *\")\n",
    "    print (e)\n",
    "\n",
    "row = cur.fetchone()\n",
    "while row:\n",
    "    print(row)\n",
    "    row = cur.fetchone()"
   ]
  },
  {
   "cell_type": "markdown",
   "id": "10cc510b",
   "metadata": {},
   "source": [
    "# close the cursor and connection."
   ]
  },
  {
   "cell_type": "code",
   "execution_count": 75,
   "id": "4609e7cb",
   "metadata": {},
   "outputs": [],
   "source": [
    "cur.close()\n",
    "conn.close()"
   ]
  }
 ],
 "metadata": {
  "kernelspec": {
   "display_name": "Python 3 (ipykernel)",
   "language": "python",
   "name": "python3"
  },
  "language_info": {
   "codemirror_mode": {
    "name": "ipython",
    "version": 3
   },
   "file_extension": ".py",
   "mimetype": "text/x-python",
   "name": "python",
   "nbconvert_exporter": "python",
   "pygments_lexer": "ipython3",
   "version": "3.11.5"
  }
 },
 "nbformat": 4,
 "nbformat_minor": 5
}
